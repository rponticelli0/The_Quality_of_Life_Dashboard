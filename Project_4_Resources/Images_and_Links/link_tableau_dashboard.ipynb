{
 "cells": [
  {
   "cell_type": "markdown",
   "metadata": {},
   "source": [
    "# Link to Tableau Quality of Life Dashboard: \n",
    "\n",
    "[Click Here](https://public.tableau.com/app/profile/ryan.ponticelli/viz/Updated_Project_4_Tableau/QualityofLifeDashboard)"
   ]
  }
 ],
 "metadata": {
  "language_info": {
   "name": "python"
  }
 },
 "nbformat": 4,
 "nbformat_minor": 2
}
